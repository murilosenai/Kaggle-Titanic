{
  "nbformat": 4,
  "nbformat_minor": 0,
  "metadata": {
    "colab": {
      "name": "Primeiros passos Google Colab",
      "provenance": [],
      "include_colab_link": true
    },
    "kernelspec": {
      "name": "python3",
      "display_name": "Python 3"
    }
  },
  "cells": [
    {
      "cell_type": "markdown",
      "metadata": {
        "id": "view-in-github",
        "colab_type": "text"
      },
      "source": [
        "<a href=\"https://colab.research.google.com/github/murilosenai/Kaggle-Titanic/blob/master/Primeiros_passos_Google_Colab.ipynb\" target=\"_parent\"><img src=\"https://colab.research.google.com/assets/colab-badge.svg\" alt=\"Open In Colab\"/></a>"
      ]
    },
    {
      "cell_type": "markdown",
      "metadata": {
        "id": "U6JQtXltTqoR",
        "colab_type": "text"
      },
      "source": [
        "# Aprendendo Google Colab \n",
        "\n",
        "---"
      ]
    },
    {
      "cell_type": "markdown",
      "metadata": {
        "id": "jXB4Yc4oQghI",
        "colab_type": "text"
      },
      "source": [
        "# Executar código é muito simples (Marcação Markdown)\n",
        "Use  **CTRL + ENTER** - Executa o código\n",
        "\n",
        "ou  **SHIFT + ENTER** - Executa o código e pula para a próxima célula\n",
        "\n",
        "ou  **ALT + ENTER** - Executa o código e cria uma nova célula"
      ]
    },
    {
      "cell_type": "code",
      "metadata": {
        "id": "RRspWFt5Qlnq",
        "colab_type": "code",
        "colab": {}
      },
      "source": [
        "print('Olá seja bem vindo!!')"
      ],
      "execution_count": null,
      "outputs": []
    },
    {
      "cell_type": "markdown",
      "metadata": {
        "id": "k975JdjPO24u",
        "colab_type": "text"
      },
      "source": [
        "# Entrada de Dados"
      ]
    },
    {
      "cell_type": "code",
      "metadata": {
        "id": "zcnVEjJjO7mH",
        "colab_type": "code",
        "colab": {}
      },
      "source": [
        "nome = input('Qual é seu nome: ')\n",
        "print(nome + ' seja bem vindo ao curso de Python')"
      ],
      "execution_count": null,
      "outputs": []
    },
    {
      "cell_type": "markdown",
      "metadata": {
        "id": "tsyvtR7KYS1b",
        "colab_type": "text"
      },
      "source": [
        "# Executar comandos Linux"
      ]
    },
    {
      "cell_type": "code",
      "metadata": {
        "id": "U7-prYnWIQmg",
        "colab_type": "code",
        "colab": {}
      },
      "source": [
        "!cat /proc/cpuinfo\n",
        "!cat /proc/meminfo"
      ],
      "execution_count": null,
      "outputs": []
    },
    {
      "cell_type": "markdown",
      "metadata": {
        "id": "hdkq5nORKPKf",
        "colab_type": "text"
      },
      "source": [
        "# Instalar biblioteca"
      ]
    },
    {
      "cell_type": "code",
      "metadata": {
        "id": "VBnnv74qKSsW",
        "colab_type": "code",
        "colab": {}
      },
      "source": [
        "!pip install requests"
      ],
      "execution_count": null,
      "outputs": []
    },
    {
      "cell_type": "code",
      "metadata": {
        "id": "E9nUYm3rP7UJ",
        "colab_type": "code",
        "colab": {}
      },
      "source": [
        "!pip install tensorflow==1.2"
      ],
      "execution_count": null,
      "outputs": []
    },
    {
      "cell_type": "markdown",
      "metadata": {
        "id": "KsdsP5ICKbIP",
        "colab_type": "text"
      },
      "source": [
        "# Saída de dados ricas"
      ]
    },
    {
      "cell_type": "code",
      "metadata": {
        "id": "YfSWZjQBKhHc",
        "colab_type": "code",
        "colab": {
          "base_uri": "https://localhost:8080/",
          "height": 281
        },
        "outputId": "0b0b841e-23a5-493c-9d18-1b331b0ba094"
      },
      "source": [
        "import numpy as np\n",
        "from matplotlib import pyplot as plt\n",
        "\n",
        "ys = 200 + np.random.randn(100)\n",
        "x = [x for x in range(len(ys))]\n",
        "\n",
        "plt.plot(x, ys, '-')\n",
        "plt.fill_between(x, ys, 195, where=(ys > 195), facecolor='g', alpha=0.6)\n",
        "\n",
        "plt.title(\"Fills and Alpha Example\")\n",
        "plt.show()"
      ],
      "execution_count": null,
      "outputs": [
        {
          "output_type": "display_data",
          "data": {
            "image/png": "[encoded data removed]",
            "text/plain": [
              "<Figure size 432x288 with 1 Axes>"
            ]
          },
          "metadata": {
            "tags": [],
            "needs_background": "light"
          }
        }
      ]
    },
    {
      "cell_type": "markdown",
      "metadata": {
        "id": "mt-iAhtFKx5n",
        "colab_type": "text"
      },
      "source": [
        "# Utilizando a ajuda integrada\n",
        "1. Use a tecla tab para executar o Intelisense\n",
        "2. No final de um comando/função ou método adicione uma ?. E execute a célula  **SHIFT + ENTER**."
      ]
    },
    {
      "cell_type": "code",
      "metadata": {
        "id": "LxksMdc2LTfe",
        "colab_type": "code",
        "colab": {}
      },
      "source": [
        "import numpy as np\n",
        "# mostra a documentação recente na internet do comando random, abre a ajuda.\n",
        "#np.random? \n",
        "np.absolute?"
      ],
      "execution_count": null,
      "outputs": []
    },
    {
      "cell_type": "markdown",
      "metadata": {
        "id": "f61hAl5vRXnA",
        "colab_type": "text"
      },
      "source": [
        "# Parar execução de um código mal comportado\n",
        ">**CTRL+M I**"
      ]
    },
    {
      "cell_type": "markdown",
      "metadata": {
        "id": "OTX5qIe-OHxk",
        "colab_type": "text"
      },
      "source": [
        "while(True):\n",
        "  pass"
      ]
    },
    {
      "cell_type": "code",
      "metadata": {
        "id": "jPbsThHDXvXJ",
        "colab_type": "code",
        "colab": {}
      },
      "source": [
        "while(True): \n",
        "  pass"
      ],
      "execution_count": null,
      "outputs": []
    },
    {
      "cell_type": "markdown",
      "metadata": {
        "id": "7liteDWEQ7zv",
        "colab_type": "text"
      },
      "source": [
        "# Integração Drive e GitHub\n",
        "---\n",
        ">## Permite abrir e salvar arquivos nessas aplicações"
      ]
    },
    {
      "cell_type": "markdown",
      "metadata": {
        "id": "NlSl_wGXQJpK",
        "colab_type": "text"
      },
      "source": [
        "# Trabalhando de forma colaborativa\n",
        "1. Compartilhando seu código\n",
        "2. Adicionando e resolvendo comentários"
      ]
    },
    {
      "cell_type": "code",
      "metadata": {
        "id": "hsg2RI7rSlfn",
        "colab_type": "code",
        "colab": {}
      },
      "source": [
        "texto = 'Claudio'"
      ],
      "execution_count": null,
      "outputs": []
    },
    {
      "cell_type": "markdown",
      "metadata": {
        "id": "zgco9YdeOUI2",
        "colab_type": "text"
      },
      "source": [
        "# Executando o código em uma GPU ou TPU\n",
        ">Clicar em Edit > Noteboolk Settings"
      ]
    },
    {
      "cell_type": "markdown",
      "metadata": {
        "id": "FeljETVXX6zL",
        "colab_type": "text"
      },
      "source": [
        "# Adicionando fórmulas matemáticas para enriquecer seu texto"
      ]
    },
    {
      "cell_type": "markdown",
      "metadata": {
        "id": "rCvbJCnbFlg-",
        "colab_type": "text"
      },
      "source": [
        "\n",
        "\n",
        "```\n",
        "# Isto está formatado como código\n",
        "```\n",
        "\n",
        "$\\frac{-b \\pm \\sqrt{b^2 - 4ac}}{2a}$\n",
        "\n",
        "\n",
        "$x^2 + 2xy + y^2 $\n",
        "\n",
        "$\\sqrt{3x-1}+(1+x)^2$"
      ]
    },
    {
      "cell_type": "markdown",
      "metadata": {
        "id": "1Pc_G6IHNvtx",
        "colab_type": "text"
      },
      "source": [
        "# Adicionando Imagens e Links\n",
        "Fazer um link é bem simples como isso [Aprenda Python](https://github.com/murilosenai/Kaggle-Titanic/blob/master/Primeiros_passos_Google_Colab.ipynb)\n",
        "\n",
        "Adicionar imagem faz dessa maneira:\n",
        " ![Python é simplesmente sensacional](https://alexandreporfirio.com/wp-content/uploads/2018/09/Python.jpg)"
      ]
    },
    {
      "cell_type": "markdown",
      "metadata": {
        "id": "jsPxrAhPROZz",
        "colab_type": "text"
      },
      "source": [
        "#Trocar o tema\n",
        "\n",
        "***Se você gosta  de um tema mais dark é fácil trocar.***\n",
        ">>Tools => Settings"
      ]
    },
    {
      "cell_type": "code",
      "metadata": {
        "id": "p62Sql7_ReyZ",
        "colab_type": "code",
        "colab": {}
      },
      "source": [
        ""
      ],
      "execution_count": null,
      "outputs": []
    }
  ]
}